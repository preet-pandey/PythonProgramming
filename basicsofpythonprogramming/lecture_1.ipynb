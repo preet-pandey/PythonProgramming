{
 "cells": [
  {
   "cell_type": "markdown",
   "metadata": {},
   "source": [
    "# ** Introduction to Python Programming**"
   ]
  },
  {
   "cell_type": "code",
   "execution_count": 2,
   "metadata": {},
   "outputs": [],
   "source": [
    "# variable assignment \n",
    "number = 200\n",
    "number1 = 100\n",
    "number2 = 100.20\n",
    "\n",
    "str = 'hello world' \n",
    "\n",
    "num = '1234'\n",
    "num1,num2,num3 = 12,13,14"
   ]
  },
  {
   "cell_type": "code",
   "execution_count": 3,
   "metadata": {},
   "outputs": [
    {
     "name": "stdout",
     "output_type": "stream",
     "text": [
      "200\n"
     ]
    }
   ],
   "source": [
    "print(number)"
   ]
  },
  {
   "cell_type": "code",
   "execution_count": 4,
   "metadata": {},
   "outputs": [
    {
     "data": {
      "text/plain": [
       "int"
      ]
     },
     "execution_count": 4,
     "metadata": {},
     "output_type": "execute_result"
    }
   ],
   "source": [
    "type(number)"
   ]
  },
  {
   "cell_type": "code",
   "execution_count": 6,
   "metadata": {},
   "outputs": [
    {
     "name": "stdout",
     "output_type": "stream",
     "text": [
      "<class 'int'>\n",
      "<class 'float'>\n",
      "<class 'str'>\n"
     ]
    }
   ],
   "source": [
    "print(type(number1))\n",
    "print(type(number2))\n",
    "print(type(str))"
   ]
  },
  {
   "cell_type": "code",
   "execution_count": 7,
   "metadata": {},
   "outputs": [],
   "source": [
    "num1,num2,num3,_ = 100,233,344,455"
   ]
  },
  {
   "cell_type": "code",
   "execution_count": 12,
   "metadata": {},
   "outputs": [],
   "source": [
    "n1,n2,n3, = 100,200,_"
   ]
  },
  {
   "cell_type": "code",
   "execution_count": 13,
   "metadata": {},
   "outputs": [
    {
     "name": "stdout",
     "output_type": "stream",
     "text": [
      " the variable number is  200\n"
     ]
    }
   ],
   "source": [
    "print(' the variable number is ',number)"
   ]
  },
  {
   "cell_type": "code",
   "execution_count": 14,
   "metadata": {},
   "outputs": [
    {
     "name": "stdout",
     "output_type": "stream",
     "text": [
      "the addition of numnber1 + number2 is  3000\n"
     ]
    }
   ],
   "source": [
    "number1 = 1000\n",
    "number2 = 2000\n",
    "number3 = number1+number2\n",
    "print(\"the addition of numnber1 + number2 is \",number3)"
   ]
  },
  {
   "cell_type": "code",
   "execution_count": 15,
   "metadata": {},
   "outputs": [
    {
     "name": "stdout",
     "output_type": "stream",
     "text": [
      "the addition of numnber1 + number2 is  -1000\n"
     ]
    }
   ],
   "source": [
    "number1 = 1000\n",
    "number2 = 2000\n",
    "number3 = number1-number2\n",
    "print(\"the addition of numnber1 + number2 is \",number3)\n"
   ]
  },
  {
   "cell_type": "code",
   "execution_count": 16,
   "metadata": {},
   "outputs": [
    {
     "name": "stdout",
     "output_type": "stream",
     "text": [
      "the addition of numnber1 + number2 is  2000000\n"
     ]
    }
   ],
   "source": [
    "number1 = 1000\n",
    "number2 = 2000\n",
    "number3 = number1*number2\n",
    "print(\"the addition of numnber1 + number2 is \",number3)"
   ]
  },
  {
   "cell_type": "code",
   "execution_count": 19,
   "metadata": {},
   "outputs": [
    {
     "name": "stdout",
     "output_type": "stream",
     "text": [
      "the addition of numnber1 + number2 is  2.0\n"
     ]
    }
   ],
   "source": [
    "number1 = 1000\n",
    "number2 = 2000\n",
    "number3 = number2/number1\n",
    "print(\"the addition of numnber1 + number2 is \",number3)"
   ]
  },
  {
   "cell_type": "code",
   "execution_count": 20,
   "metadata": {},
   "outputs": [
    {
     "name": "stdout",
     "output_type": "stream",
     "text": [
      "the addition of numnber1 + number2 is  2\n"
     ]
    }
   ],
   "source": [
    "#floor division\n",
    "number1 = 1000\n",
    "number2 = 2000\n",
    "number3 = number2//number1\n",
    "print(\"the addition of numnber1 + number2 is \",number3)\n"
   ]
  },
  {
   "cell_type": "code",
   "execution_count": null,
   "metadata": {},
   "outputs": [
    {
     "name": "stdout",
     "output_type": "stream",
     "text": [
      "addition of num1 and num2: 1234123412341234123412341234123412341234123412341234123412341234123412341234123412341234123412341234123412341234123412341234123412341234123412341234123412341234123412341234123412341234123412341234123412341234123412341234123412341234123412341234123412341234123412341234123412341234123412341234123412341234123412341234123412341234123412341234123412341234123412341234123412341234123412341234123412341234\n"
     ]
    }
   ],
   "source": [
    "num1 = 100\n",
    "num2 = '1234'\n",
    "print ('addition of num1 and num2:',(num1 * num2)) #never add int and string but \"multiply\" is allowed ( example = if i choose one as a numerical column and second i achoose string and i print multiplication then it will be print multiple timesn rahter then all arithmatic operators)\n",
    "\n"
   ]
  },
  {
   "cell_type": "code",
   "execution_count": 2,
   "metadata": {},
   "outputs": [
    {
     "name": "stdout",
     "output_type": "stream",
     "text": [
      "preet\n"
     ]
    }
   ],
   "source": [
    "name = input(\"enter a name :\")\n",
    "print(name)"
   ]
  },
  {
   "cell_type": "code",
   "execution_count": 4,
   "metadata": {},
   "outputs": [
    {
     "name": "stdout",
     "output_type": "stream",
     "text": [
      "<class 'str'>\n"
     ]
    }
   ],
   "source": [
    "print(type(name))"
   ]
  },
  {
   "cell_type": "code",
   "execution_count": null,
   "metadata": {},
   "outputs": [
    {
     "name": "stdout",
     "output_type": "stream",
     "text": [
      "27\n",
      "<class 'int'>\n"
     ]
    }
   ],
   "source": [
    "#type casting\n",
    "\n",
    "\n",
    "num =int(input(\"enter a number :\"))\n",
    "\n",
    "print(num)\n",
    "print(type(num)) #this is called type casting from string to integer\n",
    " \n"
   ]
  },
  {
   "cell_type": "code",
   "execution_count": null,
   "metadata": {},
   "outputs": [
    {
     "name": "stdout",
     "output_type": "stream",
     "text": [
      "the sum of two numbers 46.0\n"
     ]
    }
   ],
   "source": [
    "#addtion of two numbers\n",
    "\n",
    "num1 = float(input(\"enter a first numbers\")) # int is typecasting  then float is not  allowed but float is in typecasting then int will accept\n",
    "num2 = float(input(\"enter a second numbers\"))\n",
    "\n",
    "print(\"the sum of two numbers\",num1+num2)\n",
    "\n",
    "n1=eval(input(\"enter name \"))#eval can accept all numerical arguments\n",
    "\n"
   ]
  },
  {
   "cell_type": "code",
   "execution_count": null,
   "metadata": {},
   "outputs": [
    {
     "name": "stdout",
     "output_type": "stream",
     "text": [
      "[10, 10.2, 'hello world']\n"
     ]
    }
   ],
   "source": [
    "#data struture in python\n",
    "\n",
    "#list(mutable)it can be change\n",
    "lst=[10,10.20,\"hello world\"]# one dimentional array    \n",
    "print(lst)\n",
    "\n",
    "#tuple(immutable) but it cannot be change\n",
    "tup=()\n"
   ]
  },
  {
   "cell_type": "code",
   "execution_count": null,
   "metadata": {},
   "outputs": [],
   "source": []
  }
 ],
 "metadata": {
  "kernelspec": {
   "display_name": "Python 3",
   "language": "python",
   "name": "python3"
  },
  "language_info": {
   "codemirror_mode": {
    "name": "ipython",
    "version": 3
   },
   "file_extension": ".py",
   "mimetype": "text/x-python",
   "name": "python",
   "nbconvert_exporter": "python",
   "pygments_lexer": "ipython3",
   "version": "3.11.5"
  }
 },
 "nbformat": 4,
 "nbformat_minor": 2
}
